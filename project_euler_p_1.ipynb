{
 "cells": [
  {
   "cell_type": "markdown",
   "metadata": {},
   "source": [
    "### Project Euler Problem 1"
   ]
  },
  {
   "cell_type": "markdown",
   "metadata": {},
   "source": [
    "##### -----> If we list all the natural numbers below 10 that are multiples of 3 or 5, we get 3, 5, 6 and 9. The sum of these multiples is 23.\n",
    "\n",
    "##### -----> Find the sum of all the multiples of 3 or 5 below 1000."
   ]
  },
  {
   "cell_type": "code",
   "execution_count": 56,
   "metadata": {},
   "outputs": [],
   "source": [
    "def get_multiples_of_3():\n",
    "    multiples_of_three_array = []\n",
    "    for number in range(1, 1000):\n",
    "        if(number % 3 == 0):\n",
    "            multiples_of_three_array.append(number)\n",
    "            number = number + 1\n",
    "        else:\n",
    "            pass\n",
    "        \n",
    "    return multiples_of_three_array"
   ]
  },
  {
   "cell_type": "code",
   "execution_count": 57,
   "metadata": {},
   "outputs": [],
   "source": [
    "def get_multiples_of_5():\n",
    "    multiples_of_five_array = []\n",
    "    for number in range(1, 1000):\n",
    "        if(number % 5 == 0):\n",
    "            multiples_of_five_array.append(number)\n",
    "            number = number + 1\n",
    "        else:\n",
    "            pass\n",
    "        \n",
    "    return multiples_of_five_array"
   ]
  },
  {
   "cell_type": "code",
   "execution_count": 59,
   "metadata": {},
   "outputs": [],
   "source": [
    "multiples_of_three = get_multiples_of_3()\n",
    "multiples_of_five = get_multiples_of_5()"
   ]
  },
  {
   "cell_type": "code",
   "execution_count": 60,
   "metadata": {},
   "outputs": [],
   "source": [
    "sum_multiple_of_three = sum(multiples_of_three)\n",
    "sum_multiple_of_five = sum(multiples_of_five)"
   ]
  },
  {
   "cell_type": "code",
   "execution_count": 61,
   "metadata": {},
   "outputs": [],
   "source": [
    "sum_multiples_of_three_and_five = sum_multiple_of_three + sum_multiple_of_five"
   ]
  },
  {
   "cell_type": "code",
   "execution_count": 62,
   "metadata": {},
   "outputs": [
    {
     "name": "stdout",
     "output_type": "stream",
     "text": [
      "266333\n"
     ]
    }
   ],
   "source": [
    "print(sum_multiples_of_three_and_five)"
   ]
  }
 ],
 "metadata": {
  "kernelspec": {
   "display_name": "Python 3",
   "language": "python",
   "name": "python3"
  },
  "language_info": {
   "codemirror_mode": {
    "name": "ipython",
    "version": 3
   },
   "file_extension": ".py",
   "mimetype": "text/x-python",
   "name": "python",
   "nbconvert_exporter": "python",
   "pygments_lexer": "ipython3",
   "version": "3.8.2"
  }
 },
 "nbformat": 4,
 "nbformat_minor": 4
}
